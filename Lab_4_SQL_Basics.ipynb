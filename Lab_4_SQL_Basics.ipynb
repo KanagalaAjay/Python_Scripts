{
  "nbformat": 4,
  "nbformat_minor": 0,
  "metadata": {
    "colab": {
      "name": "Lab_4:SQL_Basics.ipynb",
      "provenance": [],
      "authorship_tag": "ABX9TyPqXUvzJq25zST/u9tP72dg",
      "include_colab_link": true
    },
    "kernelspec": {
      "name": "python3",
      "display_name": "Python 3"
    },
    "language_info": {
      "name": "python"
    }
  },
  "cells": [
    {
      "cell_type": "markdown",
      "metadata": {
        "id": "view-in-github",
        "colab_type": "text"
      },
      "source": [
        "<a href=\"https://colab.research.google.com/github/KanagalaAjay/Python_Scripts/blob/main/Lab_4_SQL_Basics.ipynb\" target=\"_parent\"><img src=\"https://colab.research.google.com/assets/colab-badge.svg\" alt=\"Open In Colab\"/></a>"
      ]
    },
    {
      "cell_type": "code",
      "execution_count": null,
      "metadata": {
        "id": "2HAJ7cmM9W6I"
      },
      "outputs": [],
      "source": [
        "%load_ext sql "
      ]
    },
    {
      "cell_type": "code",
      "source": [
        "%sql sqlite:// "
      ],
      "metadata": {
        "colab": {
          "base_uri": "https://localhost:8080/",
          "height": 35
        },
        "id": "bdOjRVbb9wq8",
        "outputId": "e90de69a-9804-4888-a752-d26354ed3937"
      },
      "execution_count": null,
      "outputs": [
        {
          "output_type": "execute_result",
          "data": {
            "text/plain": [
              "'Connected: @None'"
            ],
            "application/vnd.google.colaboratory.intrinsic+json": {
              "type": "string"
            }
          },
          "metadata": {},
          "execution_count": 2
        }
      ]
    },
    {
      "cell_type": "code",
      "source": [
        "%%sql\n",
        "\n",
        "CREATE TABLE IF NOT EXISTS employees(employee_num integer,\n",
        "\n",
        "                      last_name text,\n",
        "\n",
        "                      first_name text,\n",
        "\n",
        "                      salary integer,\n",
        "\n",
        "                      dept_id integer,\n",
        "\n",
        "                      age integer);\n",
        "\n"
      ],
      "metadata": {
        "colab": {
          "base_uri": "https://localhost:8080/"
        },
        "id": "2Ej7kQHn9y4f",
        "outputId": "8652a354-c7d4-48b9-8b13-d83e03afc0b0"
      },
      "execution_count": null,
      "outputs": [
        {
          "output_type": "stream",
          "name": "stdout",
          "text": [
            " * sqlite://\n",
            "Done.\n"
          ]
        },
        {
          "output_type": "execute_result",
          "data": {
            "text/plain": [
              "[]"
            ]
          },
          "metadata": {},
          "execution_count": 3
        }
      ]
    },
    {
      "cell_type": "code",
      "source": [
        "%%sql\n",
        "\n",
        "CREATE TABLE IF NOT EXISTS managers(mgr_num integer,\n",
        "\n",
        "                      last_name text,\n",
        "\n",
        "                      first_name text,\n",
        "\n",
        "                      salary integer,\n",
        "\n",
        "                      dept_id integer,\n",
        "\n",
        "                      age integer);         "
      ],
      "metadata": {
        "colab": {
          "base_uri": "https://localhost:8080/"
        },
        "id": "tJ4P67Mp94lA",
        "outputId": "afbe27d6-3933-45a8-df2c-257517748324"
      },
      "execution_count": null,
      "outputs": [
        {
          "output_type": "stream",
          "name": "stdout",
          "text": [
            " * sqlite://\n",
            "Done.\n"
          ]
        },
        {
          "output_type": "execute_result",
          "data": {
            "text/plain": [
              "[]"
            ]
          },
          "metadata": {},
          "execution_count": 4
        }
      ]
    },
    {
      "cell_type": "code",
      "source": [
        "%%sql\n",
        "\n",
        "INSERT INTO employees VALUES(1001, 'Smith','John', 62000, 500,32);\n",
        "\n",
        "INSERT INTO employees VALUES(1002, 'Anderson','Jane', 87500, 500,40);\n",
        "\n",
        "INSERT INTO employees VALUES(1003, 'Everest','Brad', 71000, 501,26);\n",
        "\n",
        "INSERT INTO employees VALUES(1004, 'Horvath','Brain', 62000, 501,44);\n",
        "\n",
        " \n",
        "\n",
        "INSERT INTO managers VALUES(101, 'White','Jonathan', 152000, 500,38);\n",
        "\n",
        "INSERT INTO managers VALUES(102, 'Smith','Paul', 120000, 501,40);\n",
        "\n",
        "INSERT INTO managers VALUES(102, 'Cowgill','Richard', 150000, 502,50);"
      ],
      "metadata": {
        "colab": {
          "base_uri": "https://localhost:8080/"
        },
        "id": "MuWgoytT99D8",
        "outputId": "1c2d4b24-44fc-472f-cce4-193f96fc215e"
      },
      "execution_count": null,
      "outputs": [
        {
          "output_type": "stream",
          "name": "stdout",
          "text": [
            " * sqlite://\n",
            "1 rows affected.\n",
            "1 rows affected.\n",
            "1 rows affected.\n",
            "1 rows affected.\n",
            "1 rows affected.\n",
            "1 rows affected.\n",
            "1 rows affected.\n"
          ]
        },
        {
          "output_type": "execute_result",
          "data": {
            "text/plain": [
              "[]"
            ]
          },
          "metadata": {},
          "execution_count": 5
        }
      ]
    },
    {
      "cell_type": "markdown",
      "source": [
        "After successfully create the two tables, please write sql queries to answer the following questions:\n",
        "\n",
        "1. Display employees older than 30 years old (expected output: last_name, first_name, age)\n",
        "2. Display employees whose first names end in “n”( expected output: last_name, first_name)\n",
        "3. Find managers make more than $130k   and less than $160k. (expected output: last_name, first_name, salary)\n",
        "4. Find employees older than his/her manager (expected output: emp_LastName, emp_FirstName, mgr_LastName, mgr_FirstName, ageDiff) Hint: ageDiff = employees.age – managers.age\n",
        "5. For each department, find the employee who makes the most. (expected output: dept_id, FirstName, LastName, salary)\n"
      ],
      "metadata": {
        "id": "wtgarusV-aVq"
      }
    },
    {
      "cell_type": "code",
      "source": [
        "# 1. Display employees older than 30 years old (expected output: last_name, first_name, age)\n",
        "%%sql  \n",
        "select last_name, first_name, age  \n",
        "from employees \n",
        "where age > 30;  \n"
      ],
      "metadata": {
        "colab": {
          "base_uri": "https://localhost:8080/",
          "height": 140
        },
        "id": "psOGmO_S-J9-",
        "outputId": "30c6324e-6b2e-4c3e-e2aa-962fea0030e5"
      },
      "execution_count": null,
      "outputs": [
        {
          "output_type": "stream",
          "name": "stdout",
          "text": [
            " * sqlite://\n",
            "Done.\n"
          ]
        },
        {
          "output_type": "execute_result",
          "data": {
            "text/plain": [
              "[('Smith', 'John', 32), ('Anderson', 'Jane', 40), ('Horvath', 'Brain', 44)]"
            ],
            "text/html": [
              "<table>\n",
              "    <thead>\n",
              "        <tr>\n",
              "            <th>last_name</th>\n",
              "            <th>first_name</th>\n",
              "            <th>age</th>\n",
              "        </tr>\n",
              "    </thead>\n",
              "    <tbody>\n",
              "        <tr>\n",
              "            <td>Smith</td>\n",
              "            <td>John</td>\n",
              "            <td>32</td>\n",
              "        </tr>\n",
              "        <tr>\n",
              "            <td>Anderson</td>\n",
              "            <td>Jane</td>\n",
              "            <td>40</td>\n",
              "        </tr>\n",
              "        <tr>\n",
              "            <td>Horvath</td>\n",
              "            <td>Brain</td>\n",
              "            <td>44</td>\n",
              "        </tr>\n",
              "    </tbody>\n",
              "</table>"
            ]
          },
          "metadata": {},
          "execution_count": 9
        }
      ]
    },
    {
      "cell_type": "code",
      "source": [
        "#2. Display employees whose first names end in “n”( expected output: last_name, first_name)\n",
        "\n",
        "%%sql  \n",
        "\n",
        "select last_name,first_name  \n",
        "from employees \n",
        "where first_name like \"%n\"; \n"
      ],
      "metadata": {
        "colab": {
          "base_uri": "https://localhost:8080/",
          "height": 119
        },
        "id": "jUE1vPYA-Ry9",
        "outputId": "9c65c378-8454-481b-a323-ffac31bd8432"
      },
      "execution_count": null,
      "outputs": [
        {
          "output_type": "stream",
          "name": "stdout",
          "text": [
            " * sqlite://\n",
            "Done.\n"
          ]
        },
        {
          "output_type": "execute_result",
          "data": {
            "text/plain": [
              "[('Smith', 'John'), ('Horvath', 'Brain')]"
            ],
            "text/html": [
              "<table>\n",
              "    <thead>\n",
              "        <tr>\n",
              "            <th>last_name</th>\n",
              "            <th>first_name</th>\n",
              "        </tr>\n",
              "    </thead>\n",
              "    <tbody>\n",
              "        <tr>\n",
              "            <td>Smith</td>\n",
              "            <td>John</td>\n",
              "        </tr>\n",
              "        <tr>\n",
              "            <td>Horvath</td>\n",
              "            <td>Brain</td>\n",
              "        </tr>\n",
              "    </tbody>\n",
              "</table>"
            ]
          },
          "metadata": {},
          "execution_count": 10
        }
      ]
    },
    {
      "cell_type": "code",
      "source": [
        "#3. Find managers make more than  130k and less than 160k. (expected output: last_name, first_name, salary)\n",
        "\n",
        "%%sql  \n",
        "select last_name,first_name, salary\n",
        "from managers \n",
        "where salary > 130000\n",
        "and salary < 160000; "
      ],
      "metadata": {
        "colab": {
          "base_uri": "https://localhost:8080/",
          "height": 119
        },
        "id": "QUv93-3vOcSd",
        "outputId": "9f5d0f3d-424d-42e7-c992-3e46af29c9df"
      },
      "execution_count": null,
      "outputs": [
        {
          "output_type": "stream",
          "name": "stdout",
          "text": [
            " * sqlite://\n",
            "Done.\n"
          ]
        },
        {
          "output_type": "execute_result",
          "data": {
            "text/plain": [
              "[('White', 'Jonathan', 152000), ('Cowgill', 'Richard', 150000)]"
            ],
            "text/html": [
              "<table>\n",
              "    <thead>\n",
              "        <tr>\n",
              "            <th>last_name</th>\n",
              "            <th>first_name</th>\n",
              "            <th>salary</th>\n",
              "        </tr>\n",
              "    </thead>\n",
              "    <tbody>\n",
              "        <tr>\n",
              "            <td>White</td>\n",
              "            <td>Jonathan</td>\n",
              "            <td>152000</td>\n",
              "        </tr>\n",
              "        <tr>\n",
              "            <td>Cowgill</td>\n",
              "            <td>Richard</td>\n",
              "            <td>150000</td>\n",
              "        </tr>\n",
              "    </tbody>\n",
              "</table>"
            ]
          },
          "metadata": {},
          "execution_count": 11
        }
      ]
    },
    {
      "cell_type": "code",
      "source": [
        "# 4. Find employees older than his/her manager (expected output: emp_LastName, emp_FirstName, mgr_LastName, mgr_FirstName, ageDiff) \n",
        "# Hint: ageDiff = employees.age – managers.age\n",
        "\n",
        "%%sql\n",
        "\n",
        "\n",
        "select e.last_name as emp_lastName, e.first_name as emp_firstName, \n",
        "       m.last_name as mgr_lastName, m.first_name as mgr_firstName,\n",
        "        e.age-m.age as ageDiff\n",
        "from employees e, managers m \n",
        "where e.dept_id = m.dept_id\n",
        "and e.age> m.age\n",
        "order by ageDiff;\n"
      ],
      "metadata": {
        "colab": {
          "base_uri": "https://localhost:8080/",
          "height": 119
        },
        "id": "q0tTlKabPxuN",
        "outputId": "a18e34ac-b32d-4b44-8476-9845f4589045"
      },
      "execution_count": null,
      "outputs": [
        {
          "output_type": "stream",
          "name": "stdout",
          "text": [
            " * sqlite://\n",
            "Done.\n"
          ]
        },
        {
          "output_type": "execute_result",
          "data": {
            "text/plain": [
              "[('Anderson', 'Jane', 'White', 'Jonathan', 2),\n",
              " ('Horvath', 'Brain', 'Smith', 'Paul', 4)]"
            ],
            "text/html": [
              "<table>\n",
              "    <thead>\n",
              "        <tr>\n",
              "            <th>emp_lastName</th>\n",
              "            <th>emp_firstName</th>\n",
              "            <th>mgr_lastName</th>\n",
              "            <th>mgr_firstName</th>\n",
              "            <th>ageDiff</th>\n",
              "        </tr>\n",
              "    </thead>\n",
              "    <tbody>\n",
              "        <tr>\n",
              "            <td>Anderson</td>\n",
              "            <td>Jane</td>\n",
              "            <td>White</td>\n",
              "            <td>Jonathan</td>\n",
              "            <td>2</td>\n",
              "        </tr>\n",
              "        <tr>\n",
              "            <td>Horvath</td>\n",
              "            <td>Brain</td>\n",
              "            <td>Smith</td>\n",
              "            <td>Paul</td>\n",
              "            <td>4</td>\n",
              "        </tr>\n",
              "    </tbody>\n",
              "</table>"
            ]
          },
          "metadata": {},
          "execution_count": 13
        }
      ]
    },
    {
      "cell_type": "code",
      "source": [
        "# For each department, find the employee who makes the most. (expected output: dept_id, FirstName, LastName, salary)\n",
        "\n",
        "%%sql  \n",
        "select dept_id, first_name, last_name ,max(salary) as salary \n",
        "from employees \n",
        "group by dept_id \n",
        "order by dept_id; \n"
      ],
      "metadata": {
        "colab": {
          "base_uri": "https://localhost:8080/",
          "height": 119
        },
        "id": "7cNQVsBFQeVz",
        "outputId": "f6a82d2b-cc52-41ce-f428-5fb671d0bc25"
      },
      "execution_count": null,
      "outputs": [
        {
          "output_type": "stream",
          "name": "stdout",
          "text": [
            " * sqlite://\n",
            "Done.\n"
          ]
        },
        {
          "output_type": "execute_result",
          "data": {
            "text/plain": [
              "[(500, 'Jane', 'Anderson', 87500), (501, 'Brad', 'Everest', 71000)]"
            ],
            "text/html": [
              "<table>\n",
              "    <thead>\n",
              "        <tr>\n",
              "            <th>dept_id</th>\n",
              "            <th>first_name</th>\n",
              "            <th>last_name</th>\n",
              "            <th>salary</th>\n",
              "        </tr>\n",
              "    </thead>\n",
              "    <tbody>\n",
              "        <tr>\n",
              "            <td>500</td>\n",
              "            <td>Jane</td>\n",
              "            <td>Anderson</td>\n",
              "            <td>87500</td>\n",
              "        </tr>\n",
              "        <tr>\n",
              "            <td>501</td>\n",
              "            <td>Brad</td>\n",
              "            <td>Everest</td>\n",
              "            <td>71000</td>\n",
              "        </tr>\n",
              "    </tbody>\n",
              "</table>"
            ]
          },
          "metadata": {},
          "execution_count": 16
        }
      ]
    },
    {
      "cell_type": "code",
      "source": [
        ""
      ],
      "metadata": {
        "id": "OBCPZjRiRx-g"
      },
      "execution_count": null,
      "outputs": []
    }
  ]
}