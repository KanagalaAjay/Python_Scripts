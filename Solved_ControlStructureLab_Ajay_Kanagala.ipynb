{
  "nbformat": 4,
  "nbformat_minor": 0,
  "metadata": {
    "colab": {
      "name": "Solved_ControlStructureLab_Ajay_Kanagala.ipynb",
      "provenance": [],
      "collapsed_sections": [],
      "include_colab_link": true
    },
    "kernelspec": {
      "display_name": "Python 3",
      "name": "python3"
    },
    "language_info": {
      "name": "python"
    }
  },
  "cells": [
    {
      "cell_type": "markdown",
      "metadata": {
        "id": "view-in-github",
        "colab_type": "text"
      },
      "source": [
        "<a href=\"https://colab.research.google.com/github/KanagalaAjay/Python_Scripts/blob/main/Solved_ControlStructureLab_Ajay_Kanagala.ipynb\" target=\"_parent\"><img src=\"https://colab.research.google.com/assets/colab-badge.svg\" alt=\"Open In Colab\"/></a>"
      ]
    },
    {
      "cell_type": "markdown",
      "metadata": {
        "id": "Bc8ifYFyjZaa"
      },
      "source": [
        "#Control Structure Homework\n",
        "\n",
        "\n",
        "Please use both Python and R to answer the following question.\n",
        "\n",
        "**Given the following list:**\n",
        "\n",
        "**numbers = `[12,75,130,180, 145, 525, 50]`**\n",
        "\n",
        "Write a program to display only those numbers from the list which satisfy the following conditions:\n",
        "\n",
        "\n",
        "•\tIf the number is greater than 150, and smaller or equal to 500,  print out the number\n",
        "\n",
        "•\tIf the number is greater than 500, then print out the square of it\n",
        "\n",
        "\n",
        "\n"
      ]
    },
    {
      "cell_type": "code",
      "metadata": {
        "colab": {
          "base_uri": "https://localhost:8080/"
        },
        "id": "WLrisfcfnwnc",
        "outputId": "08bf2524-ee41-40f8-f654-d8c7311b993f"
      },
      "source": [
        "# Your Python code here#\n",
        "\n",
        "numbers = [12,75,130,180, 145, 525, 50]\n",
        "\n",
        "for i in range(0, len(numbers)):\n",
        "  if numbers[i]>150 and numbers[i]<=500 :\n",
        "    print(numbers[i])\n",
        "  if numbers[i]>500:\n",
        "    print(numbers[i]**2)\n"
      ],
      "execution_count": null,
      "outputs": [
        {
          "output_type": "stream",
          "name": "stdout",
          "text": [
            "180\n",
            "275625\n"
          ]
        }
      ]
    },
    {
      "cell_type": "code",
      "source": [
        "%load_ext rpy2.ipython"
      ],
      "metadata": {
        "colab": {
          "base_uri": "https://localhost:8080/"
        },
        "id": "WrjXuhoQgN9J",
        "outputId": "1b432f68-acd9-41de-c31f-733f2e511e0a"
      },
      "execution_count": null,
      "outputs": [
        {
          "output_type": "stream",
          "name": "stdout",
          "text": [
            "The rpy2.ipython extension is already loaded. To reload it, use:\n",
            "  %reload_ext rpy2.ipython\n"
          ]
        }
      ]
    },
    {
      "cell_type": "code",
      "source": [
        "#Your R code here#\n",
        "\n",
        "%%R \n",
        "list_number <- list(12,75,130,180, 145, 525, 50)\n",
        "\n",
        "for (i in 1: length(list_number))\n",
        "{\n",
        "    if ((list_number[i] > 150) & (list_number[i] <= 500)){\n",
        "        print(as.numeric(list_number[i]))\n",
        "    } \n",
        "     if (list_number[i] > 500){\n",
        "        print(as.numeric(list_number[i])**2) \n",
        "     }\n",
        "}\n"
      ],
      "metadata": {
        "colab": {
          "base_uri": "https://localhost:8080/"
        },
        "id": "F15huYPphrp4",
        "outputId": "bc0b100a-1f45-48dd-b8f6-e56ea8330b8d"
      },
      "execution_count": null,
      "outputs": [
        {
          "output_type": "stream",
          "name": "stdout",
          "text": [
            "[1] 180\n",
            "[1] 275625\n"
          ]
        }
      ]
    }
  ]
}